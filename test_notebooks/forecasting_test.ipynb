{
 "cells": [
  {
   "cell_type": "code",
   "execution_count": 1,
   "metadata": {},
   "outputs": [],
   "source": [
    "import json\n",
    "import numpy as np\n",
    "import pandas as pd"
   ]
  },
  {
   "cell_type": "code",
   "execution_count": 2,
   "metadata": {},
   "outputs": [],
   "source": [
    "from statsmodels.tsa.api import ExponentialSmoothing\n",
    "from statsmodels.tsa.statespace.sarimax import SARIMAX\n",
    "from catboost import CatBoostRegressor"
   ]
  },
  {
   "cell_type": "code",
   "execution_count": 3,
   "metadata": {},
   "outputs": [],
   "source": [
    "from supporting_forecast_fuctions import *"
   ]
  },
  {
   "cell_type": "code",
   "execution_count": 4,
   "metadata": {},
   "outputs": [],
   "source": [
    "argv = [123, 'GOOG' , 12, 'SARIMA']"
   ]
  },
  {
   "cell_type": "code",
   "execution_count": 6,
   "metadata": {},
   "outputs": [
    {
     "name": "stdout",
     "output_type": "stream",
     "text": [
      "[*********************100%%**********************]  1 of 1 completed\n"
     ]
    },
    {
     "name": "stderr",
     "output_type": "stream",
     "text": [
      "c:\\Users\\kir12\\.conda\\envs\\vega_time_series\\lib\\site-packages\\statsmodels\\tsa\\base\\tsa_model.py:471: ValueWarning: A date index has been provided, but it has no associated frequency information and so will be ignored when e.g. forecasting.\n",
      "  self._init_dates(dates, freq)\n",
      "c:\\Users\\kir12\\.conda\\envs\\vega_time_series\\lib\\site-packages\\statsmodels\\tsa\\base\\tsa_model.py:471: ValueWarning: A date index has been provided, but it has no associated frequency information and so will be ignored when e.g. forecasting.\n",
      "  self._init_dates(dates, freq)\n",
      "c:\\Users\\kir12\\.conda\\envs\\vega_time_series\\lib\\site-packages\\statsmodels\\tsa\\base\\tsa_model.py:834: ValueWarning: No supported index is available. Prediction results will be given with an integer index beginning at `start`.\n",
      "  return get_prediction_index(\n",
      "c:\\Users\\kir12\\.conda\\envs\\vega_time_series\\lib\\site-packages\\statsmodels\\tsa\\base\\tsa_model.py:471: ValueWarning: A date index has been provided, but it has no associated frequency information and so will be ignored when e.g. forecasting.\n",
      "  self._init_dates(dates, freq)\n",
      "c:\\Users\\kir12\\.conda\\envs\\vega_time_series\\lib\\site-packages\\statsmodels\\tsa\\base\\tsa_model.py:471: ValueWarning: A date index has been provided, but it has no associated frequency information and so will be ignored when e.g. forecasting.\n",
      "  self._init_dates(dates, freq)\n",
      "c:\\Users\\kir12\\.conda\\envs\\vega_time_series\\lib\\site-packages\\statsmodels\\tsa\\base\\tsa_model.py:834: ValueWarning: No supported index is available. Prediction results will be given with an integer index beginning at `start`.\n",
      "  return get_prediction_index(\n",
      "c:\\Users\\kir12\\.conda\\envs\\vega_time_series\\lib\\site-packages\\statsmodels\\tsa\\base\\tsa_model.py:471: ValueWarning: A date index has been provided, but it has no associated frequency information and so will be ignored when e.g. forecasting.\n",
      "  self._init_dates(dates, freq)\n",
      "c:\\Users\\kir12\\.conda\\envs\\vega_time_series\\lib\\site-packages\\statsmodels\\tsa\\base\\tsa_model.py:471: ValueWarning: A date index has been provided, but it has no associated frequency information and so will be ignored when e.g. forecasting.\n",
      "  self._init_dates(dates, freq)\n",
      "c:\\Users\\kir12\\.conda\\envs\\vega_time_series\\lib\\site-packages\\statsmodels\\tsa\\base\\tsa_model.py:834: ValueWarning: No supported index is available. Prediction results will be given with an integer index beginning at `start`.\n",
      "  return get_prediction_index(\n",
      "c:\\Users\\kir12\\.conda\\envs\\vega_time_series\\lib\\site-packages\\statsmodels\\tsa\\base\\tsa_model.py:471: ValueWarning: A date index has been provided, but it has no associated frequency information and so will be ignored when e.g. forecasting.\n",
      "  self._init_dates(dates, freq)\n",
      "c:\\Users\\kir12\\.conda\\envs\\vega_time_series\\lib\\site-packages\\statsmodels\\tsa\\base\\tsa_model.py:471: ValueWarning: A date index has been provided, but it has no associated frequency information and so will be ignored when e.g. forecasting.\n",
      "  self._init_dates(dates, freq)\n",
      "c:\\Users\\kir12\\.conda\\envs\\vega_time_series\\lib\\site-packages\\statsmodels\\tsa\\base\\tsa_model.py:834: ValueWarning: No supported index is available. Prediction results will be given with an integer index beginning at `start`.\n",
      "  return get_prediction_index(\n",
      "c:\\Users\\kir12\\.conda\\envs\\vega_time_series\\lib\\site-packages\\statsmodels\\tsa\\base\\tsa_model.py:471: ValueWarning: A date index has been provided, but it has no associated frequency information and so will be ignored when e.g. forecasting.\n",
      "  self._init_dates(dates, freq)\n",
      "c:\\Users\\kir12\\.conda\\envs\\vega_time_series\\lib\\site-packages\\statsmodels\\tsa\\base\\tsa_model.py:471: ValueWarning: A date index has been provided, but it has no associated frequency information and so will be ignored when e.g. forecasting.\n",
      "  self._init_dates(dates, freq)\n",
      "c:\\Users\\kir12\\.conda\\envs\\vega_time_series\\lib\\site-packages\\statsmodels\\tsa\\base\\tsa_model.py:834: ValueWarning: No supported index is available. Prediction results will be given with an integer index beginning at `start`.\n",
      "  return get_prediction_index(\n"
     ]
    },
    {
     "ename": "NameError",
     "evalue": "name 'fig_forecast' is not defined",
     "output_type": "error",
     "traceback": [
      "\u001b[1;31m---------------------------------------------------------------------------\u001b[0m",
      "\u001b[1;31mNameError\u001b[0m                                 Traceback (most recent call last)",
      "\u001b[1;32m~\\AppData\\Local\\Temp\\ipykernel_11540\\1129423478.py\u001b[0m in \u001b[0;36m<module>\u001b[1;34m\u001b[0m\n\u001b[0;32m     80\u001b[0m \u001b[1;33m\u001b[0m\u001b[0m\n\u001b[0;32m     81\u001b[0m \u001b[1;33m\u001b[0m\u001b[0m\n\u001b[1;32m---> 82\u001b[1;33m \u001b[0mfig_forecast\u001b[0m\u001b[1;33m.\u001b[0m\u001b[0mwrite_image\u001b[0m\u001b[1;33m(\u001b[0m\u001b[0mstr\u001b[0m\u001b[1;33m(\u001b[0m\u001b[0muser_id\u001b[0m\u001b[1;33m)\u001b[0m \u001b[1;33m+\u001b[0m \u001b[1;34m'_forecast.png'\u001b[0m\u001b[1;33m,\u001b[0m \u001b[0mengine\u001b[0m\u001b[1;33m=\u001b[0m\u001b[1;34m\"orca\"\u001b[0m\u001b[1;33m)\u001b[0m\u001b[1;33m\u001b[0m\u001b[1;33m\u001b[0m\u001b[0m\n\u001b[0m\u001b[0;32m     83\u001b[0m \u001b[1;33m\u001b[0m\u001b[0m\n",
      "\u001b[1;31mNameError\u001b[0m: name 'fig_forecast' is not defined"
     ]
    }
   ],
   "source": [
    "user_id = argv[0]\n",
    "ticker = argv[1]\n",
    "horizon  = argv[2]\n",
    "name_model  = argv[3]\n",
    "\n",
    "'''with open(str(user_id) + '_add_params.json') as json_file:\n",
    "    add_params = json.load(json_file)\n",
    "\n",
    "with open(str(user_id) + '_kwargs_model.json') as json_file:\n",
    "    kwargs_model  = json.load(json_file)\n",
    "\n",
    "with open(str(user_id) + '_add_data.json') as json_file:\n",
    "    add_data = pd.read_csv(json_file)'''\n",
    "\n",
    "#kwargs_model = {'trend' : 'mul', 'damped_trend': True, 'initialization_method': 'estimated'}\n",
    "kwargs_model = {'order' : (1, 1, 1), 'enforce_invertibility': True, 'enforce_stationarity': True}\n",
    "#kwargs_model = {'maxlags': 4}\n",
    "yf_data = get_yfin_data(ticker)\n",
    "\n",
    "\n",
    "\n",
    "\n",
    "if name_model == 'EXP_SM':\n",
    "\n",
    "    train_main_series = yf_data['Close']\n",
    "\n",
    "    exp_sm = ExponentialSmoothing(\n",
    "        train_main_series,\n",
    "        **kwargs_model\n",
    "    ).fit()\n",
    "\n",
    "    forecast_numpy = exp_sm.forecast(horizon).values\n",
    "    forecast_series = pd.Series(data = forecast_numpy, index=pd.date_range(train_main_series.index[-1], periods=horizon))\n",
    "    metrics_df = evaluate_exp_sm(train_main_series, kwargs_model)\n",
    "    fig_forecast  = plot_prediction(train_main_series,forecast_series)\n",
    "    \n",
    "elif name_model == 'VAR':\n",
    "    train_main_series  = yf_data['Close']\n",
    "\n",
    "    VAR_model = VAR(yf_data)\n",
    "    VAR_model_res = VAR_model.fit(**kwargs_model)\n",
    "    forecast_numpy = VAR_model_res.forecast(yf_data.values, horizon)\n",
    "    forecast_df = pd.DataFrame(data = forecast_numpy, index=pd.date_range(yf_data.index[-1], periods=horizon), columns = yf_data.columns)\n",
    "    forecast_series = forecast_df['Close']\n",
    "    metrics_df = evaluate_VAR(yf_data, kwargs_model=kwargs_model)\n",
    "    fig_forecast = plot_prediction(train_main_series,forecast_series)\n",
    "elif name_model == 'SARIMA':\n",
    "\n",
    "    train_main_series = yf_data\n",
    "\n",
    "    model = SARIMAX(train_main_series['Close'], **kwargs_model).fit()\n",
    "    predict_numpy = model.forecast(steps = horizon).values\n",
    "\n",
    "    metrics_df = evaluate_sarima(train_main_series, kwargs_model)\n",
    "    forecast_series = pd.Series(data = predict_numpy, index=pd.date_range(train_main_series.index[-1], periods=horizon))\n",
    "    fig_forecast = plot_prediction(train_main_series['Close'],forecast_series)\n",
    "    #fig.write_image(\"fig1.png\")\n",
    "\n",
    "\n",
    "elif name_model == 'catboost':\n",
    "    train_main_series  = yf_data\n",
    "    train_main_series = add_MA(train_main_series)\n",
    "    train_main_series = add_lags(train_main_series, horizon+1)\n",
    "    train_main_series = pd.concat([train_main_series, encode_time(train_main_series.index)], axis=1)\n",
    "    x_train = train_main_series.iloc[:,-51:-3]\n",
    "    y_train = train_main_series['Close']\n",
    "\n",
    "    model = CatBoostRegressor(iterations= 500, loss_function= 'MAE')\n",
    "    model.fit(x_train, y_train)\n",
    "    \n",
    "    x_pred = train_main_series.iloc[-horizon:,:48]\n",
    "    x_pred.columns = train_main_series.iloc[-horizon:,-51:-3].columns\n",
    "\n",
    "    y_pred = model.predict(x_pred)\n",
    "    diff = y_pred[0] - y_train[-1]\n",
    "    y_pred = y_pred - diff\n",
    "    forecast_series = pd.Series(data = y_pred, index=pd.date_range(train_main_series.index[-1], periods=horizon))\n",
    "    fig_forecast = plot_prediction(train_main_series['Close'],forecast_series)\n",
    "    metrics_df = evaluate_catboost(train_main_series)\n",
    "    \n",
    "\n",
    "fig_forecast.write_image(str(user_id) + '_forecast.png', engine=\"orca\")\n",
    "\n"
   ]
  },
  {
   "cell_type": "code",
   "execution_count": null,
   "metadata": {},
   "outputs": [
    {
     "data": {
      "text/html": [
       "<div>\n",
       "<style scoped>\n",
       "    .dataframe tbody tr th:only-of-type {\n",
       "        vertical-align: middle;\n",
       "    }\n",
       "\n",
       "    .dataframe tbody tr th {\n",
       "        vertical-align: top;\n",
       "    }\n",
       "\n",
       "    .dataframe thead th {\n",
       "        text-align: right;\n",
       "    }\n",
       "</style>\n",
       "<table border=\"1\" class=\"dataframe\">\n",
       "  <thead>\n",
       "    <tr style=\"text-align: right;\">\n",
       "      <th></th>\n",
       "      <th>60</th>\n",
       "      <th>30</th>\n",
       "      <th>14</th>\n",
       "      <th>7</th>\n",
       "    </tr>\n",
       "  </thead>\n",
       "  <tbody>\n",
       "    <tr>\n",
       "      <th>MAE</th>\n",
       "      <td>3.708685</td>\n",
       "      <td>2.693242</td>\n",
       "      <td>2.288271</td>\n",
       "      <td>1.758812</td>\n",
       "    </tr>\n",
       "    <tr>\n",
       "      <th>MAPE</th>\n",
       "      <td>0.027897</td>\n",
       "      <td>0.020021</td>\n",
       "      <td>0.016834</td>\n",
       "      <td>0.012997</td>\n",
       "    </tr>\n",
       "    <tr>\n",
       "      <th>RMSE</th>\n",
       "      <td>4.520325</td>\n",
       "      <td>3.167995</td>\n",
       "      <td>2.771628</td>\n",
       "      <td>2.242925</td>\n",
       "    </tr>\n",
       "  </tbody>\n",
       "</table>\n",
       "</div>"
      ],
      "text/plain": [
       "            60        30        14        7 \n",
       "MAE   3.708685  2.693242  2.288271  1.758812\n",
       "MAPE  0.027897  0.020021  0.016834  0.012997\n",
       "RMSE  4.520325  3.167995  2.771628  2.242925"
      ]
     },
     "execution_count": 30,
     "metadata": {},
     "output_type": "execute_result"
    }
   ],
   "source": [
    "metrics_df"
   ]
  }
 ],
 "metadata": {
  "kernelspec": {
   "display_name": "vega_time_series",
   "language": "python",
   "name": "python3"
  },
  "language_info": {
   "codemirror_mode": {
    "name": "ipython",
    "version": 3
   },
   "file_extension": ".py",
   "mimetype": "text/x-python",
   "name": "python",
   "nbconvert_exporter": "python",
   "pygments_lexer": "ipython3",
   "version": "3.9.13"
  }
 },
 "nbformat": 4,
 "nbformat_minor": 2
}
